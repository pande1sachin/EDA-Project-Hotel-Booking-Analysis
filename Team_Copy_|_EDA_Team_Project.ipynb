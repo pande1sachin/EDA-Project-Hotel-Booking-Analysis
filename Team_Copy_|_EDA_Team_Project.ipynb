{
  "nbformat": 4,
  "nbformat_minor": 0,
  "metadata": {
    "colab": {
      "private_outputs": true,
      "provenance": [],
      "collapsed_sections": [
        "vncDsAP0Gaoa",
        "FJNUwmbgGyua",
        "w6K7xa23Elo4",
        "yQaldy8SH6Dl",
        "PH-0ReGfmX4f",
        "mDgbUHAGgjLW",
        "O_i_v8NEhb9l",
        "HhfV-JJviCcP",
        "Y3lxredqlCYt",
        "3RnN4peoiCZX",
        "x71ZqKXriCWQ",
        "7hBIi_osiCS2",
        "JlHwYmJAmNHm",
        "35m5QtbWiB9F",
        "PoPl-ycgm1ru",
        "H0kj-8xxnORC",
        "nA9Y7ga8ng1Z",
        "PBTbrJXOngz2",
        "u3PMJOP6ngxN",
        "dauF4eBmngu3",
        "bKJF3rekwFvQ",
        "MSa1f5Uengrz",
        "GF8Ens_Soomf",
        "0wOQAZs5pc--",
        "K5QZ13OEpz2H",
        "lQ7QKXXCp7Bj",
        "448CDAPjqfQr",
        "KSlN3yHqYklG",
        "t6dVpIINYklI",
        "ijmpgYnKYklI",
        "-JiQyfWJYklI",
        "EM7whBJCYoAo",
        "fge-S5ZAYoAp",
        "85gYPyotYoAp",
        "RoGjAbkUYoAp",
        "4Of9eVA-YrdM",
        "iky9q4vBYrdO",
        "F6T5p64dYrdO",
        "y-Ehk30pYrdP",
        "bamQiAODYuh1",
        "QHF8YVU7Yuh3",
        "GwzvFGzlYuh3",
        "qYpmQ266Yuh3",
        "OH-pJp9IphqM",
        "bbFf2-_FphqN",
        "_ouA3fa0phqN",
        "Seke61FWphqN",
        "PIIx-8_IphqN",
        "t27r6nlMphqO",
        "r2jJGEOYphqO",
        "b0JNsNcRphqO",
        "BZR9WyysphqO",
        "jj7wYXLtphqO",
        "eZrbJ2SmphqO",
        "rFu4xreNphqO",
        "YJ55k-q6phqO",
        "gCFgpxoyphqP",
        "OVtJsKN_phqQ",
        "lssrdh5qphqQ",
        "U2RJ9gkRphqQ",
        "1M8mcRywphqQ",
        "tgIPom80phqQ",
        "JMzcOPDDphqR",
        "x-EpHcCOp1ci",
        "X_VqEhTip1ck",
        "8zGJKyg5p1ck",
        "PVzmfK_Ep1ck",
        "n3dbpmDWp1ck",
        "ylSl6qgtp1ck",
        "ZWILFDl5p1ck",
        "M7G43BXep1ck",
        "Ag9LCva-p1cl",
        "E6MkPsBcp1cl",
        "2cELzS2fp1cl",
        "3MPXvC8up1cl",
        "NC_X3p0fY2L0",
        "UV0SzAkaZNRQ",
        "YPEH6qLeZNRQ",
        "q29F0dvdveiT",
        "EXh0U9oCveiU",
        "22aHeOlLveiV",
        "JcMwzZxoAimU",
        "8G2x9gOozGDZ",
        "gCX9965dhzqZ",
        "gIfDvo9L0UH2"
      ],
      "include_colab_link": true
    },
    "kernelspec": {
      "name": "python3",
      "display_name": "Python 3"
    },
    "language_info": {
      "name": "python"
    }
  },
  "cells": [
    {
      "cell_type": "markdown",
      "metadata": {
        "id": "view-in-github",
        "colab_type": "text"
      },
      "source": [
        "<a href=\"https://colab.research.google.com/github/pande1sachin/EDA-Project-Hotel-Booking-Analysis/blob/main/Team_Copy_%7C_EDA_Team_Project.ipynb\" target=\"_parent\"><img src=\"https://colab.research.google.com/assets/colab-badge.svg\" alt=\"Open In Colab\"/></a>"
      ]
    },
    {
      "cell_type": "markdown",
      "source": [
        "# **Project Name**    - Exploratory Data Analysis - Hotel Booking Analysis\n",
        "\n"
      ],
      "metadata": {
        "id": "vncDsAP0Gaoa"
      }
    },
    {
      "cell_type": "markdown",
      "source": [
        "##### **Project Type**    - EDA (Exploratory Data Analysis)\n",
        "##### **Contribution**    - Individual/Team\n",
        "##### **Team Member 1 -**   Sachin Durgaprasad Pande\n",
        "##### **Team Member 2 -**   Bhanu Pratap Singh\n",
        "##### **Team Member 3 -**   Lucky Mithilesh Jaiswal\n",
        "##### **Team Member 4 -**   Aditi Ranuji Jachak"
      ],
      "metadata": {
        "id": "beRrZCGUAJYm"
      }
    },
    {
      "cell_type": "markdown",
      "source": [
        "# **Project Summary -**"
      ],
      "metadata": {
        "id": "FJNUwmbgGyua"
      }
    },
    {
      "cell_type": "markdown",
      "source": [
        "Write the summary here within 500-600 words."
      ],
      "metadata": {
        "id": "F6v_1wHtG2nS"
      }
    },
    {
      "cell_type": "markdown",
      "source": [
        "# **GitHub Link -**"
      ],
      "metadata": {
        "id": "w6K7xa23Elo4"
      }
    },
    {
      "cell_type": "markdown",
      "source": [
        "Github link for project related documents: https://github.com/pande1sachin/EDA-Project-Hotel-Booking-Analysis"
      ],
      "metadata": {
        "id": "h1o69JH3Eqqn"
      }
    },
    {
      "cell_type": "markdown",
      "source": [
        "##### Dataset Link - https://drive.google.com/file/d/1FmihW8yI9S2zdx-YU1rsk16craCqDRbh/view?usp=sharing\n"
      ],
      "metadata": {
        "id": "z2xYeVdRWvtq"
      }
    },
    {
      "cell_type": "markdown",
      "source": [
        "# **Problem Statement**\n"
      ],
      "metadata": {
        "id": "yQaldy8SH6Dl"
      }
    },
    {
      "cell_type": "markdown",
      "source": [
        "**Depending on the various parameters about hotel industry provided to us in the given dataset, it is our objective to provide hotel management insights regarding how to improve adr (average daily rates) and boost their business and profitability.**"
      ],
      "metadata": {
        "id": "DpeJGUA3kjGy"
      }
    },
    {
      "cell_type": "markdown",
      "source": [
        "#### **Define Your Business Objective?**"
      ],
      "metadata": {
        "id": "PH-0ReGfmX4f"
      }
    },
    {
      "cell_type": "markdown",
      "source": [
        "Objective of studying this dataset is to help hotel management in designing proper business strategy and effective advertisement campaign for targeted audience which can be hotel's potential customers."
      ],
      "metadata": {
        "id": "PhDvGCAqmjP1"
      }
    },
    {
      "cell_type": "markdown",
      "source": [
        "# **General Guidelines** : -  "
      ],
      "metadata": {
        "id": "mDgbUHAGgjLW"
      }
    },
    {
      "cell_type": "markdown",
      "source": [
        "1.   Well-structured, formatted, and commented code is required.\n",
        "2.   Exception Handling, Production Grade Code & Deployment Ready Code will be a plus. Those students will be awarded some additional credits.\n",
        "     \n",
        "     The additional credits will have advantages over other students during Star Student selection.\n",
        "       \n",
        "             [ Note: - Deployment Ready Code is defined as, the whole .ipynb notebook should be executable in one go\n",
        "                       without a single error logged. ]\n",
        "\n",
        "3.   Each and every logic should have proper comments.\n",
        "4. You may add as many number of charts you want. Make Sure for each and every chart the following format should be answered.\n",
        "        \n",
        "\n",
        "```\n",
        "# Chart visualization code\n",
        "```\n",
        "            \n",
        "\n",
        "*   Why did you pick the specific chart?\n",
        "*   What is/are the insight(s) found from the chart?\n",
        "* Will the gained insights help creating a positive business impact?\n",
        "Are there any insights that lead to negative growth? Justify with specific reason.\n",
        "\n",
        "5. You have to create at least 20 logical & meaningful charts having important insights.\n",
        "\n",
        "\n",
        "[ Hints : - Do the Vizualization in  a structured way while following \"UBM\" Rule.\n",
        "\n",
        "U - Univariate Analysis,\n",
        "\n",
        "B - Bivariate Analysis (Numerical - Categorical, Numerical - Numerical, Categorical - Categorical)\n",
        "\n",
        "M - Multivariate Analysis\n",
        " ]\n",
        "\n",
        "\n",
        "\n"
      ],
      "metadata": {
        "id": "ZrxVaUj-hHfC"
      }
    },
    {
      "cell_type": "markdown",
      "source": [
        "# ***Let's Begin !***"
      ],
      "metadata": {
        "id": "O_i_v8NEhb9l"
      }
    },
    {
      "cell_type": "markdown",
      "source": [
        "## ***1. Know Your Data***"
      ],
      "metadata": {
        "id": "HhfV-JJviCcP"
      }
    },
    {
      "cell_type": "markdown",
      "source": [
        "### Import Libraries"
      ],
      "metadata": {
        "id": "Y3lxredqlCYt"
      }
    },
    {
      "cell_type": "code",
      "source": [
        "# Import Libraries\n",
        "# all important libraries for project are imported\n",
        "import numpy as np                  # library to work numpy array\n",
        "import pandas as pd                 # library for data manipulation\n",
        "import matplotlib.pyplot as plt     # library for data visualisation\n",
        "import seaborn as sns               # library for data visualisation"
      ],
      "metadata": {
        "id": "M8Vqi-pPk-HR"
      },
      "execution_count": null,
      "outputs": []
    },
    {
      "cell_type": "code",
      "source": [
        "# This is to ignore warnings if any\n",
        "import warnings\n",
        "warnings.filterwarnings('ignore')"
      ],
      "metadata": {
        "id": "NH6phQpVKk41"
      },
      "execution_count": null,
      "outputs": []
    },
    {
      "cell_type": "markdown",
      "source": [
        "### Dataset Loading"
      ],
      "metadata": {
        "id": "3RnN4peoiCZX"
      }
    },
    {
      "cell_type": "code",
      "source": [
        "# Mounting google drive so as to fetch data or files in colab from google drive\n",
        "from google.colab import drive\n",
        "drive.mount('/content/drive')"
      ],
      "metadata": {
        "id": "WAbYo8syLEf-"
      },
      "execution_count": null,
      "outputs": []
    },
    {
      "cell_type": "code",
      "source": [
        "# Load Dataset\n",
        "hba_df = pd.read_csv('/content/drive/MyDrive/AlmaBetter Projects/Capestone Project 1 EDA Datasets/Hotel Bookings.csv')"
      ],
      "metadata": {
        "id": "4CkvbW_SlZ_R"
      },
      "execution_count": null,
      "outputs": []
    },
    {
      "cell_type": "markdown",
      "source": [
        "### Dataset First View"
      ],
      "metadata": {
        "id": "x71ZqKXriCWQ"
      }
    },
    {
      "cell_type": "code",
      "source": [
        "# Dataset First Look\n",
        "# sets the view of the dataframe to display all columns without hiding\n",
        "pd.options.display.max_columns = None\n",
        "# displays first five rows of the dataframe\n",
        "hba_df.head()"
      ],
      "metadata": {
        "id": "LWNFOSvLl09H"
      },
      "execution_count": null,
      "outputs": []
    },
    {
      "cell_type": "code",
      "source": [
        "# displays last five rows of the dataframe\n",
        "hba_df.tail()"
      ],
      "metadata": {
        "id": "yvaLl_F8TDT4"
      },
      "execution_count": null,
      "outputs": []
    },
    {
      "cell_type": "markdown",
      "source": [
        "### Dataset Rows & Columns count"
      ],
      "metadata": {
        "id": "7hBIi_osiCS2"
      }
    },
    {
      "cell_type": "code",
      "source": [
        "# Dataset Rows & Columns count\n",
        "print(f\"Number of rows in original dataset is : {hba_df.shape[0]}\")\n",
        "print(f\"Number of columns in original dataset is : {hba_df.shape[1]}\")"
      ],
      "metadata": {
        "id": "Kllu7SJgmLij"
      },
      "execution_count": null,
      "outputs": []
    },
    {
      "cell_type": "markdown",
      "source": [
        "### Dataset Information"
      ],
      "metadata": {
        "id": "JlHwYmJAmNHm"
      }
    },
    {
      "cell_type": "code",
      "source": [
        "# Dataset Info\n",
        "# To display basic info about the type of data in columns and name of all the columns in the dataset\n",
        "print(f\"{hba_df.columns}\\n\")\n",
        "\n",
        "hba_df.info()"
      ],
      "metadata": {
        "id": "e9hRXRi6meOf"
      },
      "execution_count": null,
      "outputs": []
    },
    {
      "cell_type": "markdown",
      "source": [
        "#### Duplicate Values"
      ],
      "metadata": {
        "id": "35m5QtbWiB9F"
      }
    },
    {
      "cell_type": "code",
      "source": [
        "# Dataset Duplicate Value Count\n",
        "print(f'Duplicate values in the dataset earlier: {hba_df.duplicated().sum()}\\n')  # prints number of duplicate values in the dataset\n",
        "\n",
        "# created a copy of original dataset so as to keep original dataset intact\n",
        "c_hba_df = hba_df.copy()\n",
        "\n",
        "c_hba_df.drop_duplicates(inplace = True)                                            # removes duplicates from the dataset\n",
        "print(f'Duplicates in the dataset now: {c_hba_df.duplicated().sum()}')              # checks that there are no duplicate values remaining in the dataset"
      ],
      "metadata": {
        "id": "1sLdpKYkmox0"
      },
      "execution_count": null,
      "outputs": []
    },
    {
      "cell_type": "code",
      "source": [
        "# checking the number of rows and columns after removel of the duplicates from the dataset\n",
        "print(f\"Number of rows in modified dataset is : {c_hba_df.shape[0]}\")\n",
        "print(f\"Number of columns in modified dataset is : {c_hba_df.shape[1]}\")"
      ],
      "metadata": {
        "id": "V8sozQBaFjqA"
      },
      "execution_count": null,
      "outputs": []
    },
    {
      "cell_type": "markdown",
      "source": [
        "#### Missing Values/Null Values"
      ],
      "metadata": {
        "id": "PoPl-ycgm1ru"
      }
    },
    {
      "cell_type": "code",
      "source": [
        "# Missing Values/Null Values Count\n",
        "# checking null values in the dataset column by column and arranging them in descending order so as to identify columns with most number of null values\n",
        "null_value_info_df = pd.DataFrame(c_hba_df.isnull().sum().sort_values(ascending = False))\n",
        "null_value_info_df = null_value_info_df.rename(columns = {0 : \"no. of null values\"}).reset_index()\n",
        "null_value_info_df"
      ],
      "metadata": {
        "id": "GgHWkxvamxVg"
      },
      "execution_count": null,
      "outputs": []
    },
    {
      "cell_type": "code",
      "source": [
        "# Visualizing the missing values\n",
        "plt.figure(figsize = (9, 7))\n",
        "plt.title(\"Column wise number of null values in the dataset\")\n",
        "plt.bar(x = 'index', height = 'no. of null values', data = null_value_info_df)\n",
        "plt.xlabel('Column names')\n",
        "plt.xticks(rotation = 90)\n",
        "plt.ylabel('Number of null values')\n",
        "plt.show()"
      ],
      "metadata": {
        "id": "3q5wnI3om9sJ"
      },
      "execution_count": null,
      "outputs": []
    },
    {
      "cell_type": "markdown",
      "source": [
        "#### Columns 'company', 'agent', 'country', 'children' contains null values. Now we will check them in terms of percentage."
      ],
      "metadata": {
        "id": "8H12GvkEecdq"
      }
    },
    {
      "cell_type": "code",
      "source": [
        "# finding percentage of the null values in the dataset column by column so that we can decide how to handle them.\n",
        "# checking null values in the dataset column by column in terms of percentage and arranging them in descending order\n",
        "percent_null_value_info_df = pd.DataFrame(round((c_hba_df.isnull().sum() * 100) / len(c_hba_df), 3).sort_values(ascending = False))\n",
        "percent_null_value_info_df = percent_null_value_info_df.rename(columns = {0 : \"% null values\"})\n",
        "percent_null_value_info_df.head()"
      ],
      "metadata": {
        "id": "zyY4khc5cuRH"
      },
      "execution_count": null,
      "outputs": []
    },
    {
      "cell_type": "markdown",
      "source": [
        "#### Variables/columns in the dataset having null values are  'company', 'agent', 'country' and 'children' having 93.983 %, 13.951 %, 0.517 % and 0.005 % null values."
      ],
      "metadata": {
        "id": "CQ9WwNkph_uw"
      }
    },
    {
      "cell_type": "markdown",
      "source": [
        "#### As 'company' have 93.983 % null values we will drop/delete them from dataset."
      ],
      "metadata": {
        "id": "RbmKHvSTiqA9"
      }
    },
    {
      "cell_type": "code",
      "source": [
        "# removing mentioned row from the dataframe\n",
        "c_hba_df.drop(columns = ['company'], inplace = True)"
      ],
      "metadata": {
        "id": "0R6dwiYth-_F"
      },
      "execution_count": null,
      "outputs": []
    },
    {
      "cell_type": "markdown",
      "source": [
        "#### 'agent', 'country' and 'children' have 13.951 %, 0.517 % and 0.005 % null values. Which is very less so we replace null values from these two columns with the most frequent (mode) values of resoective columns."
      ],
      "metadata": {
        "id": "6ebdmbGhk4Sw"
      }
    },
    {
      "cell_type": "code",
      "source": [
        "# filling null values with most frequently appearing values(i.e. mode) in each respective columns\n",
        "c_hba_df['agent'] = c_hba_df['agent'].fillna(c_hba_df['agent'].mode()[0])\n",
        "c_hba_df['country'] = c_hba_df['country'].fillna(c_hba_df['country'].mode()[0])\n",
        "c_hba_df['children'] = c_hba_df['children'].fillna(c_hba_df['children'].mode()[0])"
      ],
      "metadata": {
        "id": "sdy1FDBemCKL"
      },
      "execution_count": null,
      "outputs": []
    },
    {
      "cell_type": "code",
      "source": [
        "# Checking for null values in the dataset after removing them from the dataset\n",
        "c_hba_df.isnull().sum()"
      ],
      "metadata": {
        "id": "7EhPtQ5ongeF"
      },
      "execution_count": null,
      "outputs": []
    },
    {
      "cell_type": "code",
      "source": [
        "# checking the number of rows and columns after removing null values from the dataset\n",
        "print(f\"Number of rows in modified dataset is : {c_hba_df.shape[0]}\")\n",
        "print(f\"Number of columns in modified dataset is : {c_hba_df.shape[1]}\")"
      ],
      "metadata": {
        "id": "QtV0ZnVEoPuL"
      },
      "execution_count": null,
      "outputs": []
    },
    {
      "cell_type": "markdown",
      "source": [
        "### All the null values are removed successfully."
      ],
      "metadata": {
        "id": "PEALaKzXokZz"
      }
    },
    {
      "cell_type": "markdown",
      "source": [
        "### What did you know about your dataset?"
      ],
      "metadata": {
        "id": "H0kj-8xxnORC"
      }
    },
    {
      "cell_type": "markdown",
      "source": [
        "After removing all the null values and droping/removing the columns having significant amount of null values, dataset have 87396 rows and 30 columns"
      ],
      "metadata": {
        "id": "gfoNAAC-nUe_"
      }
    },
    {
      "cell_type": "markdown",
      "source": [
        "## ***2. Understanding Your Variables***"
      ],
      "metadata": {
        "id": "nA9Y7ga8ng1Z"
      }
    },
    {
      "cell_type": "code",
      "source": [
        "# Dataset Columns\n",
        "list(c_hba_df.columns)"
      ],
      "metadata": {
        "id": "j7xfkqrt5Ag5"
      },
      "execution_count": null,
      "outputs": []
    },
    {
      "cell_type": "code",
      "source": [
        "c_hba_df.head(1)"
      ],
      "metadata": {
        "id": "IaaeSRFgwzLV"
      },
      "execution_count": null,
      "outputs": []
    },
    {
      "cell_type": "markdown",
      "source": [
        "#### Basic statistical discreption of each column in the dataset"
      ],
      "metadata": {
        "id": "QvZwp0k5_yft"
      }
    },
    {
      "cell_type": "code",
      "source": [
        "# Dataset Describe\n",
        "c_hba_df.describe()"
      ],
      "metadata": {
        "id": "DnOaZdaE5Q5t"
      },
      "execution_count": null,
      "outputs": []
    },
    {
      "cell_type": "markdown",
      "source": [
        "### Variables Description"
      ],
      "metadata": {
        "id": "PBTbrJXOngz2"
      }
    },
    {
      "cell_type": "markdown",
      "source": [
        "#### Details of the variables/column names is as below:\n",
        "* 'hotel' : Type of hotel (Resort Hotel or City Hotel)\n",
        "* 'is_canceled' : Cancelation status (canceled or not)\n",
        "* 'lead_time' : Days before arrival of the guest\n",
        "* 'arrival_date_year' : Booking year\n",
        "* 'arrival_date_month' : Booking month\n",
        "* 'arrival_date_week_number' : Booking week\n",
        "* 'arrival_date_day_of_month' : Booking date/day\n",
        "* 'stays_in_weekend_nights' : Number of weekends guest stayed\n",
        "* 'stays_in_week_nights' : Number of weekdays guest stayed\n",
        "* 'adults' : Number of adults\n",
        "* 'children' : Number of children\n",
        "* 'babies' : Number of babies\n",
        "* 'meal' :\n",
        "  * BB : Bed & Breakfast\n",
        "  * HB : only two meals including breakfast meal\n",
        "  * FB : breakfast, lunch, and dinner\n",
        "* 'country' : Country to which guest belongs\n",
        "* 'market_segment' :\n",
        "  * 'Direct' : Whether direct\n",
        "  * 'Corporate' : Whether corporate\n",
        "  * 'Online TA' : Whether through online travel agent\n",
        "  * 'Offline TA/TO' : Whether through offline travel agent/tour operator\n",
        "  * 'Complementary' : Whether complementary\n",
        "  * 'Groups' : Whether groups\n",
        "  * 'Undefined' : If undefined\n",
        "  * 'Aviation' : if aviation\n",
        "* 'distribution_channel' : Details about distribution_channel\n",
        "  * ('Direct', 'Corporate', 'TA/TO', 'Undefined', 'GDS')\n",
        "* 'is_repeated_guest' : 0 or 1 accordingly if it is a repeated guest or not\n",
        "* 'previous_cancellations' : Cancelled in past\n",
        "* 'previous_bookings_not_canceled' : Not cancelled in past\n",
        "* 'reserved_room_type' : Type of reserved room\n",
        "* 'assigned_room_type' : Type of assigned room\n",
        "* 'booking_changes' : How many times changes in bookings were made\n",
        "* 'deposit_type' : Type of payment/deposite\n",
        "* 'agent' : Agent id\n",
        "* 'days_in_waiting_list' : Number of days in waiting list\n",
        "* 'customer_type' : Type of customer\n",
        "* 'adr' : Average Daily Rate\n",
        "* 'required_car_parking_spaces' : If parking space is required\n",
        "* 'total_of_special_requests' : Number of special requests made by the customer\n",
        "* 'reservation_status' : Whether 'Check-Out', 'Canceled' or 'No-Show'\n",
        "* 'reservation_status_date' : Date of the respective statusAnswer Here"
      ],
      "metadata": {
        "id": "aJV4KIxSnxay"
      }
    },
    {
      "cell_type": "code",
      "source": [
        "# Checking variables having discrete values representing different categories or groups.\n",
        "print(\"Variables having discrete values representing different categories or groups in dataset:\")\n",
        "print('=='*45,'\\n')\n",
        "count = 0\n",
        "for name_of_column in c_hba_df.columns:\n",
        "  if c_hba_df[name_of_column].dtypes == 'O':\n",
        "    count += 1\n",
        "    print(f\"{count}). {name_of_column}\")\n",
        "print('=='*45,'\\n')\n",
        "print(f\"\\nTotal {count} variables/columns in dataset have discrete values representing different categories or groups in dataset\")"
      ],
      "metadata": {
        "id": "4MlzJMYICUlH"
      },
      "execution_count": null,
      "outputs": []
    },
    {
      "cell_type": "code",
      "source": [
        "# Checking variables having numerical values.\n",
        "print(\"Variables having numerical values in dataset:\")\n",
        "print('=='*25,'\\n')\n",
        "count = 0\n",
        "for name_of_column in c_hba_df.columns:\n",
        "  if c_hba_df[name_of_column].dtypes != 'O':\n",
        "    count += 1\n",
        "    print(f\"{count}). {name_of_column}\")\n",
        "print('=='*45,'\\n')\n",
        "print(f\"\\nTotal {count} variables/columns have numerical values in dataset\")"
      ],
      "metadata": {
        "id": "6NY_5aDuIcqg"
      },
      "execution_count": null,
      "outputs": []
    },
    {
      "cell_type": "markdown",
      "source": [
        "### Check Unique Values for each variable."
      ],
      "metadata": {
        "id": "u3PMJOP6ngxN"
      }
    },
    {
      "cell_type": "code",
      "source": [
        "# Checking unique values for each variable/column.\n",
        "print(\"Unique value for each variable in dataset:\")\n",
        "for name_of_column in c_hba_df.columns:\n",
        "  print(\"==\"*25)\n",
        "  print(f\"{name_of_column}: {c_hba_df[name_of_column].unique()}\")"
      ],
      "metadata": {
        "id": "zms12Yq5n-jE"
      },
      "execution_count": null,
      "outputs": []
    },
    {
      "cell_type": "code",
      "source": [
        "# Check number of unique values for each variable/column.\n",
        "print(\"Number of unique value for each variable/column in dataset:\")\n",
        "print(\"==\"*25)\n",
        "for name_of_column in c_hba_df.columns:\n",
        "  print(f\"{name_of_column}: {c_hba_df[name_of_column].nunique()} unique values.\\n\")"
      ],
      "metadata": {
        "id": "Up3jGu3YpDo9"
      },
      "execution_count": null,
      "outputs": []
    },
    {
      "cell_type": "markdown",
      "source": [
        "## 3. ***Data Wrangling***"
      ],
      "metadata": {
        "id": "dauF4eBmngu3"
      }
    },
    {
      "cell_type": "markdown",
      "source": [
        "### Data Wrangling Code"
      ],
      "metadata": {
        "id": "bKJF3rekwFvQ"
      }
    },
    {
      "cell_type": "markdown",
      "source": [
        "### Some kind of basic data manipulation and wrangling like removing duplicates, handling null values by either removing them or replacing them with proper substitutes (i.e. mode) and removing irrelevant columns and rows are already done on the dataset.\n",
        "\n",
        "### Remaining Data Wrangling we will do in this section"
      ],
      "metadata": {
        "id": "qP53wm7BtnIw"
      }
    },
    {
      "cell_type": "code",
      "source": [
        "# checking dataset for inappropriate datatypes\n",
        "c_hba_df.info()"
      ],
      "metadata": {
        "id": "0qc-2pByyqNJ"
      },
      "execution_count": null,
      "outputs": []
    },
    {
      "cell_type": "markdown",
      "source": [
        "### Converting datatypes"
      ],
      "metadata": {
        "id": "vry73bBW6IIx"
      }
    },
    {
      "cell_type": "code",
      "source": [
        "# Write your code to make your dataset analysis ready.\n",
        "# datatype of columns children and agent is float\n",
        "# so we will have to correct it by typecasting it to proper datatypes\n",
        "c_hba_df[['children', 'agent']] = c_hba_df[['children', 'agent']].astype('int64')\n",
        "\n",
        "# also reservation_status_date contains date related data so it also needs to be properly type casted\n",
        "c_hba_df['reservation_status_date'] = pd.to_datetime(c_hba_df['reservation_status_date'], format = '%Y-%m-%d')\n",
        "\n",
        "# checking datatype of the respective columns after convertion\n",
        "c_hba_df[['children','agent','reservation_status_date']].info()"
      ],
      "metadata": {
        "id": "wk-9a2fpoLcV"
      },
      "execution_count": null,
      "outputs": []
    },
    {
      "cell_type": "code",
      "source": [
        "# substituting 'canceled' or 'not canceled' in the column 'is_canceled' depending on the status of the booking\n",
        "c_hba_df['is_canceled'] = c_hba_df['is_canceled'].apply(lambda x : 'not canceled' if x == 0 else 'canceled')\n",
        "\n",
        "# adding data from columns 'stays_in_weekend_nights', 'stays_in_week_nights' and introducing a new column named as 'total_stays_nights'\n",
        "total_stays = pd.Series(c_hba_df['stays_in_weekend_nights'] + c_hba_df['stays_in_week_nights'])\n",
        "c_hba_df.insert(9, 'total_stays_night', total_stays, True)"
      ],
      "metadata": {
        "id": "1tGbOAZS6EPG"
      },
      "execution_count": null,
      "outputs": []
    },
    {
      "cell_type": "code",
      "source": [
        "# now adding data from the columns 'adults', 'children' and 'babies' to get number of total_guests\n",
        "total = pd.Series(c_hba_df['adults'] + c_hba_df['children'] + c_hba_df['babies'])\n",
        "# this puts the column we created at the position besides the column 'babies'\n",
        "c_hba_df.insert(13, 'total_guests', total, True)"
      ],
      "metadata": {
        "id": "vtXH87T5VYFa"
      },
      "execution_count": null,
      "outputs": []
    },
    {
      "cell_type": "code",
      "source": [
        "# now checking if the actually reserved room is assigned to the guest or not\n",
        "# this puts the column we created at the position besides the column 'assigned_room_type'\n",
        "c_hba_df.insert(23, 'reserved_room_assigned', None)\n",
        "c_hba_df['reserved_room_assigned'] = c_hba_df.apply(lambda x : 'yes' if x.reserved_room_type == x.assigned_room_type else 'no', axis = 1)"
      ],
      "metadata": {
        "id": "s7y8zb9kW3nf"
      },
      "execution_count": null,
      "outputs": []
    },
    {
      "cell_type": "code",
      "source": [
        "# Number of rows and columns before applying filter\n",
        "print(f\"Number of rows in modified dataset is : {c_hba_df.shape[0]}\")\n",
        "print(f\"Number of columns in modified dataset is : {c_hba_df.shape[1]}\")"
      ],
      "metadata": {
        "id": "eVPJSI7QeQ98"
      },
      "execution_count": null,
      "outputs": []
    },
    {
      "cell_type": "code",
      "source": [
        "c_hba_df.head(1)"
      ],
      "metadata": {
        "id": "dB7lMu-SCe25"
      },
      "execution_count": null,
      "outputs": []
    },
    {
      "cell_type": "code",
      "source": [
        "c_hba_df = c_hba_df[c_hba_df['total_guests'] != 0]"
      ],
      "metadata": {
        "id": "fYQ6jdYPQvEb"
      },
      "execution_count": null,
      "outputs": []
    },
    {
      "cell_type": "code",
      "source": [
        "# Number of rows and columns before applying filter\n",
        "print(f\"Number of rows in modified dataset is : {c_hba_df.shape[0]}\")\n",
        "print(f\"Number of columns in modified dataset is : {c_hba_df.shape[1]}\")"
      ],
      "metadata": {
        "id": "SoHe_5OAeo0u"
      },
      "execution_count": null,
      "outputs": []
    },
    {
      "cell_type": "code",
      "source": [
        "c_hba_df.info()"
      ],
      "metadata": {
        "id": "HocZWbGzhk5K"
      },
      "execution_count": null,
      "outputs": []
    },
    {
      "cell_type": "code",
      "source": [
        "# Identifying the outliers to handle them\n",
        "column_name = c_hba_df['adr']\n",
        "plt.figure(figsize = (20, 5))\n",
        "plt.title('Distribution of Average Daily Rate')\n",
        "sns.boxplot(x = column_name)\n",
        "plt.show()"
      ],
      "metadata": {
        "id": "57WJJpkvNjWW"
      },
      "execution_count": null,
      "outputs": []
    },
    {
      "cell_type": "markdown",
      "source": [
        "### As we can see that there are outlier in the column \"adr\", so now we will eliminate it."
      ],
      "metadata": {
        "id": "FPhdnQISjOm7"
      }
    },
    {
      "cell_type": "code",
      "source": [
        "# sorting datframe in ascending values by 'adr' column\n",
        "c_hba_df['adr'].sort_values()"
      ],
      "metadata": {
        "id": "uMYACnLdk-fn"
      },
      "execution_count": null,
      "outputs": []
    },
    {
      "cell_type": "code",
      "source": [
        "# we will first row and last row of the above sorted data are outlier as\n",
        "# first row contains a negative and last row contains a very high value\n",
        "# which seem to be some error in data\n",
        "c_hba_df.drop([14969, 48515], axis=0, inplace=True)"
      ],
      "metadata": {
        "id": "7JXdcmvTnSL4"
      },
      "execution_count": null,
      "outputs": []
    },
    {
      "cell_type": "code",
      "source": [
        "print(c_hba_df.shape)\n",
        "# Number of rows and columns before applying filter\n",
        "print(f\"Number of rows in modified dataset is : {c_hba_df.shape[0]}\")\n",
        "print(f\"Number of columns in modified dataset is : {c_hba_df.shape[1]}\")"
      ],
      "metadata": {
        "id": "1IblEhlopE1U"
      },
      "execution_count": null,
      "outputs": []
    },
    {
      "cell_type": "markdown",
      "source": [
        "### What all manipulations have you done and insights you found?"
      ],
      "metadata": {
        "id": "MSa1f5Uengrz"
      }
    },
    {
      "cell_type": "markdown",
      "source": [
        "#### 1). First of all to keep the original dataframe intact we created a copy of the original dataframe by using \".copy()\" method and performed all manipulation and wrangling on that copy.\n",
        "#### 2). By using \".drop_duplicates()\" method we eliminated duplicate values.\n",
        "#### 3). Handled missing or null values in following ways:\n",
        " * > #### The 'company' column has 93.983 % missing or null values so we removed the column from the dataset.\n",
        " * > #### And columns \"agent\", \"country\" and \"children\" have 13.951 %, 0.517 % and 0.005 % so we substituted mode i.e. most frequently appearing value in respective rows of the above mentioned columns.\n",
        "\n",
        "#### 4). For correctly performing manipulation and visualisation tasks on the data it should have proper datatype i.e. integer, float, string, datetime, etc. So we converted data in \"children\",  \"agent\" and \"reservation_status_date\" columns to integer and datetime datatype.\n",
        "#### 5). Data in column 'is_cancelled' is substituted with 'not canceled' or 'canceled' considering the older values in the column i.e. 0 or 1.\n",
        "#### 6). Added a column 'total_stays_nights' in the dataframe and the data in that column is addition of data from two columns 'stays_in_weekend_nights' ,'stays_in_week_nights' for each respective rows.\n",
        "#### 7). For calculating total number of guests we added data from the columns 'adults', 'children' and 'babies' and stored in a new column named \"total_guests\"\n",
        "#### 8). We created a new column \" reserved_room_assigned\" and updated it with the status 'yes' or 'no' depending on the values in the columns 'reserved_room_type'  and 'assigned_room_type' whether they matches or not for each row.\n",
        "#### 9). After updating data regarding total number of guests we filtered out the row where total number of guests is zero i.e. 0 and eliminated such rows from the dataframe.\n",
        "#### 10). We identified outliers from the column \"adr\" and eliminated them."
      ],
      "metadata": {
        "id": "LbyXE7I1olp8"
      }
    },
    {
      "cell_type": "markdown",
      "source": [
        "## ***4. Data Vizualization, Storytelling & Experimenting with charts : Understand the relationships between variables***"
      ],
      "metadata": {
        "id": "GF8Ens_Soomf"
      }
    },
    {
      "cell_type": "code",
      "source": [
        "c_hba_df.head(1)"
      ],
      "metadata": {
        "id": "ebZLH6b65FL9"
      },
      "execution_count": null,
      "outputs": []
    },
    {
      "cell_type": "markdown",
      "source": [
        "#### Chart - 1: Distribution of the hotels."
      ],
      "metadata": {
        "id": "0wOQAZs5pc--"
      }
    },
    {
      "cell_type": "code",
      "source": [
        "# Chart - 1 visualization code\n",
        "# To represent the distribution of the hotels if resort hotel or city hotel\n",
        "hotel_count = c_hba_df['hotel'].value_counts().reset_index()\n",
        "value_sum = sum(hotel_count['hotel'])\n",
        "hotel_count['percent'] = round(hotel_count['hotel'].apply(lambda x : (x / value_sum) * 100), 2)\n",
        "print(hotel_count)\n",
        "\n",
        "plt.figure(figsize=(3, 4))\n",
        "plt.title(\"Distribution of hotels\")\n",
        "sns.set_style(\"whitegrid\")\n",
        "sns.barplot(x = 'index', y = 'hotel', data = hotel_count)\n",
        "for i, percent in enumerate(hotel_count['percent']):\n",
        "    plt.text(i, percent, str(percent) + ' %', ha='center', va='bottom')\n",
        "plt.xlabel('Type of hotel')\n",
        "plt.xticks(rotation = 0)\n",
        "plt.ylabel('Bookings')\n",
        "plt.show()"
      ],
      "metadata": {
        "id": "7v_ESjsspbW7"
      },
      "execution_count": null,
      "outputs": []
    },
    {
      "cell_type": "markdown",
      "source": [
        "##### 1. Why did you pick the specific chart?"
      ],
      "metadata": {
        "id": "K5QZ13OEpz2H"
      }
    },
    {
      "cell_type": "markdown",
      "source": [
        "As the data represented by bar graphs is very easy to understand, thus we have selected bar graph to display the distribution of hotels."
      ],
      "metadata": {
        "id": "XESiWehPqBRc"
      }
    },
    {
      "cell_type": "markdown",
      "source": [
        "##### 2. What is/are the insight(s) found from the chart?"
      ],
      "metadata": {
        "id": "lQ7QKXXCp7Bj"
      }
    },
    {
      "cell_type": "markdown",
      "source": [
        "From the above visualisation we found that out of total bookings approximately 61 % were in 'City Hotel' and  39 % bookings were in 'Resort Hotel'. So we can say that city hotel booked more often as compared to resort hotels.  "
      ],
      "metadata": {
        "id": "C_j1G7yiqdRP"
      }
    },
    {
      "cell_type": "markdown",
      "source": [
        "##### 3. Will the gained insights help creating a positive business impact?\n",
        "Are there any insights that lead to negative growth? Justify with specific reason."
      ],
      "metadata": {
        "id": "448CDAPjqfQr"
      }
    },
    {
      "cell_type": "markdown",
      "source": [
        "Yes, insights gained shows that demand for city hotel is high whereas demand for resort hotel is low. Considering above results resort hotel owners can do some changes in their pricing strategy, also they can start attractive offers with free pick up and drop service sp as to attract customers. They can also target vacation season with some attractive offers to attract the customers"
      ],
      "metadata": {
        "id": "3cspy4FjqxJW"
      }
    },
    {
      "cell_type": "markdown",
      "source": [
        "#### Chart - 2: Checking booking status distribution."
      ],
      "metadata": {
        "id": "KSlN3yHqYklG"
      }
    },
    {
      "cell_type": "code",
      "source": [
        "# Chart - 2 visualization codes\n",
        "# Booking status distribution\n",
        "canceled_booking_count = c_hba_df['is_canceled'].value_counts().reset_index()\n",
        "value_sum = sum(canceled_booking_count['is_canceled'])\n",
        "canceled_booking_count['percent'] = round(canceled_booking_count['is_canceled'].apply(lambda x : (x / value_sum) * 100), 2)\n",
        "print(canceled_booking_count)\n",
        "\n",
        "plt.figure(figsize=(3, 4))\n",
        "plt.title(\"Checking booking status distribution\")\n",
        "sns.set_style(\"whitegrid\")\n",
        "sns.barplot(x = 'index', y = 'is_canceled', data = canceled_booking_count)\n",
        "for i, percent in enumerate(canceled_booking_count['percent']):\n",
        "    plt.text(i, percent, str(percent) + ' %', ha='center', va='bottom')\n",
        "plt.xlabel('Booking status')\n",
        "plt.xticks(rotation = 0)\n",
        "plt.ylabel('Bookings')\n",
        "plt.show()"
      ],
      "metadata": {
        "id": "R4YgtaqtYklH"
      },
      "execution_count": null,
      "outputs": []
    },
    {
      "cell_type": "markdown",
      "source": [
        "##### 1. Why did you pick the specific chart?"
      ],
      "metadata": {
        "id": "t6dVpIINYklI"
      }
    },
    {
      "cell_type": "markdown",
      "source": [
        "As the data represented by bar graphs is very easy to understand, thus we have selected bar graph to display the proportion of canceled and not-canceled bookings."
      ],
      "metadata": {
        "id": "5aaW0BYyYklI"
      }
    },
    {
      "cell_type": "markdown",
      "source": [
        "##### 2. What is/are the insight(s) found from the chart?"
      ],
      "metadata": {
        "id": "ijmpgYnKYklI"
      }
    },
    {
      "cell_type": "markdown",
      "source": [
        "Out of the total bookings made at the hotel around 28 percent bookings were canceled and 72 percent bookings are not canceled which is a positive aspect of the bookings data."
      ],
      "metadata": {
        "id": "PSx9atu2YklI"
      }
    },
    {
      "cell_type": "markdown",
      "source": [
        "##### 3. Will the gained insights help creating a positive business impact?\n",
        "Are there any insights that lead to negative growth? Justify with specific reason."
      ],
      "metadata": {
        "id": "-JiQyfWJYklI"
      }
    },
    {
      "cell_type": "markdown",
      "source": [
        "Yes, even though the guests who have canceled their bookings are comparatively low i.e. 27.52 %, but still it is a considerable number. So this insight regarding canceled bookings will help management of the hotel to focus and get feedback and find out reasons for the cancelation of the bookings and improve on the short commings."
      ],
      "metadata": {
        "id": "BcBbebzrYklV"
      }
    },
    {
      "cell_type": "markdown",
      "source": [
        "#### Chart - 3: Checking distribution of arrival date year."
      ],
      "metadata": {
        "id": "EM7whBJCYoAo"
      }
    },
    {
      "cell_type": "code",
      "source": [
        "# Chart - 3 visualization code\n",
        "# Checking distribution of arrival date year\n",
        "arrival_year_count = c_hba_df['arrival_date_year'].value_counts().reset_index()\n",
        "value_sum = sum(arrival_year_count['arrival_date_year'])\n",
        "arrival_year_count['percent'] = round(arrival_year_count['arrival_date_year'].apply(lambda x : (x / value_sum) * 100), 2)\n",
        "arrival_year_count.sort_values(by = 'index', inplace = True)\n",
        "print(arrival_year_count)\n",
        "\n",
        "plt.figure(figsize=(4, 4))\n",
        "plt.title(\"Distribution of arrival year\")\n",
        "sns.set_style(\"whitegrid\")\n",
        "sns.barplot(x = 'index', y = 'arrival_date_year', data = arrival_year_count)\n",
        "for i, percent in enumerate(arrival_year_count['percent']):\n",
        "    plt.text(i, percent, str(percent) + ' %', ha='center', va='bottom')\n",
        "plt.xlabel('Arrival year')\n",
        "plt.xticks(rotation = 0)\n",
        "plt.ylabel('Bookings')\n",
        "plt.show()"
      ],
      "metadata": {
        "id": "t6GMdE67YoAp"
      },
      "execution_count": null,
      "outputs": []
    },
    {
      "cell_type": "markdown",
      "source": [
        "##### 1. Why did you pick the specific chart?"
      ],
      "metadata": {
        "id": "fge-S5ZAYoAp"
      }
    },
    {
      "cell_type": "markdown",
      "source": [
        "As the data represented by bar graphs is very easy to understand and also it is easy to compare multiple data using bar graph, thus we have selected bar graph to display the number and proportion of year wise bookings."
      ],
      "metadata": {
        "id": "5dBItgRVYoAp"
      }
    },
    {
      "cell_type": "markdown",
      "source": [
        "##### 2. What is/are the insight(s) found from the chart?"
      ],
      "metadata": {
        "id": "85gYPyotYoAp"
      }
    },
    {
      "cell_type": "markdown",
      "source": [
        "For the bookings data provided in the dataset 2016 is the year that holds around 49 % bookings out of the total bookings."
      ],
      "metadata": {
        "id": "4jstXR6OYoAp"
      }
    },
    {
      "cell_type": "markdown",
      "source": [
        "##### 3. Will the gained insights help creating a positive business impact?\n",
        "Are there any insights that lead to negative growth? Justify with specific reason."
      ],
      "metadata": {
        "id": "RoGjAbkUYoAp"
      }
    },
    {
      "cell_type": "markdown",
      "source": [
        "As the number of bookings are more for 2016 as compared to 2017 this insight will help management to find out the reasons for a drop in number of bookings from 2016 to 2017, so as to make a proper strategy for future business opportunities."
      ],
      "metadata": {
        "id": "zfJ8IqMcYoAp"
      }
    },
    {
      "cell_type": "markdown",
      "source": [
        "#### Chart - 4: Distribution of arrival date month (Univariate)."
      ],
      "metadata": {
        "id": "4Of9eVA-YrdM"
      }
    },
    {
      "cell_type": "code",
      "source": [
        "# Chart - 4 visualization code\n",
        "# Distribution of arrival date month\n",
        "arrival_month_count = c_hba_df['arrival_date_month'].value_counts().reset_index()\n",
        "value_sum = sum(arrival_month_count['arrival_date_month'])\n",
        "arrival_month_count['percent'] = round(arrival_month_count['arrival_date_month'].apply(lambda x : (x / value_sum) * 100), 2)\n",
        "print(arrival_month_count)\n",
        "\n",
        "plt.figure(figsize = (14, 5))\n",
        "plt.title(\"Arrival month distribution\")\n",
        "sns.set_style(\"whitegrid\")\n",
        "sns.barplot(x = 'index', y = 'arrival_date_month', data = arrival_month_count)\n",
        "for i, percent in enumerate(arrival_month_count['percent']):\n",
        "    plt.text(i, percent, str(percent) + ' %', ha='center', va='bottom')\n",
        "plt.xlabel('Arrival month')\n",
        "plt.xticks(rotation = 0)\n",
        "plt.ylabel('Bookings')\n",
        "plt.show()"
      ],
      "metadata": {
        "id": "irlUoxc8YrdO"
      },
      "execution_count": null,
      "outputs": []
    },
    {
      "cell_type": "markdown",
      "source": [
        "##### 1. Why did you pick the specific chart?"
      ],
      "metadata": {
        "id": "iky9q4vBYrdO"
      }
    },
    {
      "cell_type": "markdown",
      "source": [
        "As the data represented by bar graphs is very easy to understand and also it is easy to compare multiple data using bar graph, thus we have selected bar graph to display the number and proportion of monthly bookings so as to get a glimps regarding which month has got highest number of bookings."
      ],
      "metadata": {
        "id": "aJRCwT6DYrdO"
      }
    },
    {
      "cell_type": "markdown",
      "source": [
        "##### 2. What is/are the insight(s) found from the chart?"
      ],
      "metadata": {
        "id": "F6T5p64dYrdO"
      }
    },
    {
      "cell_type": "markdown",
      "source": [
        "Around 43 % bookings are made for the month August, July, May and April, with August is at top of the list."
      ],
      "metadata": {
        "id": "Xx8WAJvtYrdO"
      }
    },
    {
      "cell_type": "markdown",
      "source": [
        "##### 3. Will the gained insights help creating a positive business impact?\n",
        "Are there any insights that lead to negative growth? Justify with specific reason."
      ],
      "metadata": {
        "id": "y-Ehk30pYrdP"
      }
    },
    {
      "cell_type": "markdown",
      "source": [
        "In the month of August and July number of bookings are high as compared to rest of the year. This insight will help to focus more on this period as this might be holiday period, so that hotels should get more bookings in this duration."
      ],
      "metadata": {
        "id": "jLNxxz7MYrdP"
      }
    },
    {
      "cell_type": "markdown",
      "source": [
        "#### Chart - 5: Market segment distribution."
      ],
      "metadata": {
        "id": "bamQiAODYuh1"
      }
    },
    {
      "cell_type": "code",
      "source": [
        "# Chart - 5 visualization code\n",
        "# Market segment distribution\n",
        "market_segment_count = c_hba_df['market_segment'].value_counts().reset_index()\n",
        "value_sum = sum(market_segment_count['market_segment'])\n",
        "market_segment_count['percent'] = round(market_segment_count['market_segment'].apply(lambda x : (x / value_sum) * 100), 2)\n",
        "print(market_segment_count)\n",
        "\n",
        "plt.figure(figsize = (10, 5))\n",
        "plt.title(\"market segment distribution\")\n",
        "sns.set_style(\"whitegrid\")\n",
        "sns.barplot(x = 'index', y = 'market_segment', data = market_segment_count)\n",
        "for i, percent in enumerate(market_segment_count['percent']):\n",
        "    plt.text(i, percent, str(percent) + ' %', ha='center', va='bottom')\n",
        "plt.xlabel('market segment')\n",
        "plt.xticks(rotation = 0)\n",
        "plt.ylabel('Bookings')\n",
        "plt.show()"
      ],
      "metadata": {
        "id": "TIJwrbroYuh3"
      },
      "execution_count": null,
      "outputs": []
    },
    {
      "cell_type": "markdown",
      "source": [
        "##### 1. Why did you pick the specific chart?"
      ],
      "metadata": {
        "id": "QHF8YVU7Yuh3"
      }
    },
    {
      "cell_type": "markdown",
      "source": [
        "As the data represented by bar graphs is very easy to understand and also it is easy to compare multiple data using bar graph, thus we have selected bar graph to display which market segment has brought maximun number of bookings to the hotel."
      ],
      "metadata": {
        "id": "dcxuIMRPYuh3"
      }
    },
    {
      "cell_type": "markdown",
      "source": [
        "##### 2. What is/are the insight(s) found from the chart?"
      ],
      "metadata": {
        "id": "GwzvFGzlYuh3"
      }
    },
    {
      "cell_type": "markdown",
      "source": [
        "It is visible that the market segment contributing maximum bookings is 'Online TA' which is around 59 % followed by 'offline TA/TO' contributing approximately 16 % bookings and direct bookings are around 14 % percent."
      ],
      "metadata": {
        "id": "uyqkiB8YYuh3"
      }
    },
    {
      "cell_type": "markdown",
      "source": [
        "##### 3. Will the gained insights help creating a positive business impact?\n",
        "Are there any insights that lead to negative growth? Justify with specific reason."
      ],
      "metadata": {
        "id": "qYpmQ266Yuh3"
      }
    },
    {
      "cell_type": "markdown",
      "source": [
        "As most of the bookings come from Online TA segment of the market, hotel should try to focus on getting more bookings from Corporate and Aviation segments as they are usually high paying market segments so that the ADR could be increased."
      ],
      "metadata": {
        "id": "_WtzZ_hCYuh4"
      }
    },
    {
      "cell_type": "markdown",
      "source": [
        "#### Chart - 6: \"distribution channel\" distribution."
      ],
      "metadata": {
        "id": "OH-pJp9IphqM"
      }
    },
    {
      "cell_type": "code",
      "source": [
        "# Chart - 6 visualization code\n",
        "# \"distribution_channel\" distribution\n",
        "\n",
        "distribution_channel_count = c_hba_df['distribution_channel'].value_counts().reset_index()\n",
        "value_sum = sum(distribution_channel_count['distribution_channel'])\n",
        "distribution_channel_count['percent'] = round(distribution_channel_count['distribution_channel'].apply(lambda x : (x / value_sum) * 100), 2)\n",
        "print(distribution_channel_count)\n",
        "\n",
        "plt.figure(figsize = (8, 5))\n",
        "plt.title(\"'distribution_channel' distribution\")\n",
        "sns.set_style(\"whitegrid\")\n",
        "sns.barplot(x = 'index', y = 'distribution_channel', data = distribution_channel_count)\n",
        "for i, percent in enumerate(distribution_channel_count['percent']):\n",
        "    plt.text(i, percent, str(percent) + ' %', ha='center', va='bottom')\n",
        "plt.xlabel('distribution-channel')\n",
        "plt.xticks(rotation = 0)\n",
        "plt.ylabel('Bookings')\n",
        "plt.show()"
      ],
      "metadata": {
        "id": "kuRf4wtuphqN"
      },
      "execution_count": null,
      "outputs": []
    },
    {
      "cell_type": "markdown",
      "source": [
        "##### 1. Why did you pick the specific chart?"
      ],
      "metadata": {
        "id": "bbFf2-_FphqN"
      }
    },
    {
      "cell_type": "markdown",
      "source": [
        "As the data represented by bar graphs is very easy to understand and also it is easy to compare multiple data using bar graph, thus we have selected bar graph to display which distribution channel has contributed towards maximun number of bookings."
      ],
      "metadata": {
        "id": "loh7H2nzphqN"
      }
    },
    {
      "cell_type": "markdown",
      "source": [
        "##### 2. What is/are the insight(s) found from the chart?"
      ],
      "metadata": {
        "id": "_ouA3fa0phqN"
      }
    },
    {
      "cell_type": "markdown",
      "source": [
        "From the above bar graph it is observed that around 79 % bookings came from TA/TO distribution channel."
      ],
      "metadata": {
        "id": "VECbqPI7phqN"
      }
    },
    {
      "cell_type": "markdown",
      "source": [
        "##### 3. Will the gained insights help creating a positive business impact?\n",
        "Are there any insights that lead to negative growth? Justify with specific reason."
      ],
      "metadata": {
        "id": "Seke61FWphqN"
      }
    },
    {
      "cell_type": "markdown",
      "source": [
        "From the above graphs it can be said that hotel management should focus to geting more bookings from direct and corporate channel, as for direct channel no commission has to be paid to anyone so even with low ADR hotel could earn more profit, and corporate bookings usually are high paying high profit bookings."
      ],
      "metadata": {
        "id": "DW4_bGpfphqN"
      }
    },
    {
      "cell_type": "markdown",
      "source": [
        "#### Chart - 7: reserved_room_assigned 'yes' or 'no'."
      ],
      "metadata": {
        "id": "PIIx-8_IphqN"
      }
    },
    {
      "cell_type": "code",
      "source": [
        "# Chart - 7 visualization code\n",
        "# reserved_room_assigned 'yes' or 'no'\n",
        "reserved_room_assigned_count = c_hba_df['reserved_room_assigned'].value_counts().reset_index()\n",
        "value_sum = sum(reserved_room_assigned_count['reserved_room_assigned'])\n",
        "reserved_room_assigned_count['percent'] = round(reserved_room_assigned_count['reserved_room_assigned'].apply(lambda x : (x / value_sum) * 100), 2)\n",
        "print(reserved_room_assigned_count)\n",
        "\n",
        "plt.figure(figsize = (3, 4))\n",
        "plt.title(\"reserved_room_assigned 'yes' or 'no'\")\n",
        "sns.set_style(\"whitegrid\")\n",
        "sns.barplot(x = 'index', y = 'reserved_room_assigned', data = reserved_room_assigned_count)\n",
        "for i, percent in enumerate(reserved_room_assigned_count['percent']):\n",
        "    plt.text(i, percent, str(percent) + ' %', ha='center', va='bottom')\n",
        "plt.xlabel('reserved_room_assigned status')\n",
        "plt.xticks(rotation = 0)\n",
        "plt.ylabel('Bookings')\n",
        "plt.show()"
      ],
      "metadata": {
        "id": "lqAIGUfyphqO"
      },
      "execution_count": null,
      "outputs": []
    },
    {
      "cell_type": "markdown",
      "source": [
        "##### 1. Why did you pick the specific chart?"
      ],
      "metadata": {
        "id": "t27r6nlMphqO"
      }
    },
    {
      "cell_type": "markdown",
      "source": [
        "As the data represented by bar graphs is very easy to understand and also it is easy to compare multiple data using bar graph, thus we have selected bar graph to display what percentage of time reserved room is assigned to the customer."
      ],
      "metadata": {
        "id": "iv6ro40sphqO"
      }
    },
    {
      "cell_type": "markdown",
      "source": [
        "##### 2. What is/are the insight(s) found from the chart?"
      ],
      "metadata": {
        "id": "r2jJGEOYphqO"
      }
    },
    {
      "cell_type": "markdown",
      "source": [
        "From the above bar graph it is observed that in approximately 85 % cases room reserved by the customer is assigned to the customer."
      ],
      "metadata": {
        "id": "Po6ZPi4hphqO"
      }
    },
    {
      "cell_type": "markdown",
      "source": [
        "##### 3. Will the gained insights help creating a positive business impact?\n",
        "Are there any insights that lead to negative growth? Justify with specific reason."
      ],
      "metadata": {
        "id": "b0JNsNcRphqO"
      }
    },
    {
      "cell_type": "markdown",
      "source": [
        "Even though in most of the cases hotel has provided customers with the reserved room. But still there is a room for improvement as in 15 % cases reserved room was not provided. So hotel management should focus on such cases by planning proper strategy."
      ],
      "metadata": {
        "id": "xvSq8iUTphqO"
      }
    },
    {
      "cell_type": "markdown",
      "source": [
        "#### Chart - 8: Distribution of bookings by agent."
      ],
      "metadata": {
        "id": "BZR9WyysphqO"
      }
    },
    {
      "cell_type": "code",
      "source": [
        "# Chart - 8 visualization code\n",
        "# Distribution of bookings by agent (Top 10)\n",
        "\n",
        "agent_count = c_hba_df['agent'].value_counts().reset_index()\n",
        "agent_count = agent_count.sort_values(by = 'agent', ascending = False)\n",
        "agent_count = agent_count.head(10)\n",
        "\n",
        "value_sum = sum(agent_count['agent'])\n",
        "agent_count['percent'] = round(agent_count['agent'].apply(lambda x : (x / value_sum) * 100), 2)\n",
        "print(agent_count)\n",
        "color_list = ['#1f77b4', '#ff7f0e', '#2ca02c', '#d62728', '#9467bd',\n",
        "              '#FFFF00', '#e377c2', '#7f7f7f', '#bcbd22', '#17becf']\n",
        "agent_count.plot(x = 'index', y = 'agent', kind = \"bar\", figsize = (15, 5), title = 'Top 10 agents by number of bookings', color = color_list, legend = False)\n",
        "for i, percent in enumerate(agent_count['percent']):\n",
        "    plt.text(i, percent, str(percent) + ' %', ha='center', va='bottom')\n",
        "plt.xlabel('Agent ID')\n",
        "plt.xticks(rotation = 0)\n",
        "plt.ylabel('Bookings')\n",
        "plt.show()"
      ],
      "metadata": {
        "id": "TdPTWpAVphqO"
      },
      "execution_count": null,
      "outputs": []
    },
    {
      "cell_type": "markdown",
      "source": [
        "##### 1. Why did you pick the specific chart?"
      ],
      "metadata": {
        "id": "jj7wYXLtphqO"
      }
    },
    {
      "cell_type": "markdown",
      "source": [
        "As the data represented by bar graphs is very easy to understand and also it is easy to compare multiple data using bar graph, thus we have selected bar graph to display which agent has given maximum bookings to the hotel."
      ],
      "metadata": {
        "id": "Ob8u6rCTphqO"
      }
    },
    {
      "cell_type": "markdown",
      "source": [
        "##### 2. What is/are the insight(s) found from the chart?"
      ],
      "metadata": {
        "id": "eZrbJ2SmphqO"
      }
    },
    {
      "cell_type": "markdown",
      "source": [
        "The above bar graph shows that agent with ID 9 tops the list w.r.t number of bookings through him. Agent with ID's 240 and 14 stands 2nd and 3rd respectively."
      ],
      "metadata": {
        "id": "mZtgC_hjphqO"
      }
    },
    {
      "cell_type": "markdown",
      "source": [
        "##### 3. Will the gained insights help creating a positive business impact?\n",
        "Are there any insights that lead to negative growth? Justify with specific reason."
      ],
      "metadata": {
        "id": "rFu4xreNphqO"
      }
    },
    {
      "cell_type": "markdown",
      "source": [
        "Hotel management should focus on incentivizing other agents as they can help hotel in getting more bookings as most of the bookings (i.e. > 50 %) are through one agent only, so there is a room for improvement."
      ],
      "metadata": {
        "id": "ey_0qi68phqO"
      }
    },
    {
      "cell_type": "markdown",
      "source": [
        "#### Chart - 9: Checking if, is not getting the reserved room a reason for cancelation of booking."
      ],
      "metadata": {
        "id": "YJ55k-q6phqO"
      }
    },
    {
      "cell_type": "code",
      "source": [
        "# Chart - 9 visualization code\n",
        "is_canceled_df = c_hba_df.groupby('is_canceled')['reserved_room_assigned'].value_counts().unstack()\n",
        "print(is_canceled_df)\n",
        "\n",
        "is_canceled_df.plot(kind = \"bar\")\n",
        "plt.title(\"is_canceled v/s reserved_room_assigned\")\n",
        "plt.xlabel('Cancelation status')\n",
        "plt.ylabel('Bookings')\n",
        "plt.xticks(rotation = 0)\n",
        "plt.show()"
      ],
      "metadata": {
        "id": "B2aS4O1ophqO"
      },
      "execution_count": null,
      "outputs": []
    },
    {
      "cell_type": "markdown",
      "source": [
        "##### 1. Why did you pick the specific chart?"
      ],
      "metadata": {
        "id": "gCFgpxoyphqP"
      }
    },
    {
      "cell_type": "markdown",
      "source": [
        "As the data represented by bar graphs is very easy to understand and also it is easy to group and compare multiple data using bar graph, thus we have selected bar graph to display how many times bookings are canceled based on the fact whether the hotel has assigned the room as desired by the customer."
      ],
      "metadata": {
        "id": "TVxDimi2phqP"
      }
    },
    {
      "cell_type": "markdown",
      "source": [
        "##### 2. What is/are the insight(s) found from the chart?"
      ],
      "metadata": {
        "id": "OVtJsKN_phqQ"
      }
    },
    {
      "cell_type": "markdown",
      "source": [
        "It is clear from the graph above that there are very less canceled bookings considering the fact that reserved room is not assigned."
      ],
      "metadata": {
        "id": "ngGi97qjphqQ"
      }
    },
    {
      "cell_type": "markdown",
      "source": [
        "##### 3. Will the gained insights help creating a positive business impact?\n",
        "Are there any insights that lead to negative growth? Justify with specific reason."
      ],
      "metadata": {
        "id": "lssrdh5qphqQ"
      }
    },
    {
      "cell_type": "markdown",
      "source": [
        "As this graph tells us about the canceled and not canceled bookings, hotel management needs to focus on canceled bookings which is again sub divided in two groups i.e. 'not assigned reserved room and canceled booking' and 'assigned reserved room and canceled booking' here second group is to be focused on as eventhough reserved room was alloted to the customer booking was canceled, so hotel management should focus on developing feedback mechanism so as to find out real reason for cancelation of bookings which will help them improve over the shortcommings."
      ],
      "metadata": {
        "id": "tBpY5ekJphqQ"
      }
    },
    {
      "cell_type": "markdown",
      "source": [
        "#### Chart - 10: Country wise number of bookings."
      ],
      "metadata": {
        "id": "U2RJ9gkRphqQ"
      }
    },
    {
      "cell_type": "code",
      "source": [
        "# Chart - 10 visualization code\n",
        "country_df = c_hba_df['country'].value_counts()\n",
        "country_df = country_df.head(10)\n",
        "print(country_df)\n",
        "\n",
        "plt.title('Top 10 countries w.r.t. number of bookings')\n",
        "sns.barplot(x = country_df.index, y = country_df.values)\n",
        "for i, value in enumerate(country_df.values):\n",
        "    plt.text(i, value, str(value), ha='center', va='bottom')\n",
        "plt.xlabel('Countries')\n",
        "plt.ylabel('Number of bookings')\n",
        "plt.show()"
      ],
      "metadata": {
        "id": "GM7a4YP4phqQ"
      },
      "execution_count": null,
      "outputs": []
    },
    {
      "cell_type": "markdown",
      "source": [
        "##### 1. Why did you pick the specific chart?"
      ],
      "metadata": {
        "id": "1M8mcRywphqQ"
      }
    },
    {
      "cell_type": "markdown",
      "source": [
        "As the data represented by bar graphs is very easy to understand and also it is easy to compare and group multiple data using bar graphs, thus we have selected bar graph to display country wise number of bookings and sort it in the manner as displyed in the graph."
      ],
      "metadata": {
        "id": "8agQvks0phqQ"
      }
    },
    {
      "cell_type": "markdown",
      "source": [
        "##### 2. What is/are the insight(s) found from the chart?"
      ],
      "metadata": {
        "id": "tgIPom80phqQ"
      }
    },
    {
      "cell_type": "markdown",
      "source": [
        "After studying above shown bar graph we can clearly say that maximun guests come from Portugal followed by Great Britain, France and so on among top 10 countries."
      ],
      "metadata": {
        "id": "Qp13pnNzphqQ"
      }
    },
    {
      "cell_type": "markdown",
      "source": [
        "##### 3. Will the gained insights help creating a positive business impact?\n",
        "Are there any insights that lead to negative growth? Justify with specific reason."
      ],
      "metadata": {
        "id": "JMzcOPDDphqR"
      }
    },
    {
      "cell_type": "markdown",
      "source": [
        "Considering top countries from which most guests are coming, dedicated advertisement campaigns should be designed and implemented keeping such countries in focus so as to grab more and more customers from such countries. Hotel management should also launch attractive offers and discount because this will help hotel to acquire more and more customers."
      ],
      "metadata": {
        "id": "R4Ka1PC2phqR"
      }
    },
    {
      "cell_type": "markdown",
      "source": [
        "#### Chart - 11:  ADR  v/s  Booking month"
      ],
      "metadata": {
        "id": "x-EpHcCOp1ci"
      }
    },
    {
      "cell_type": "code",
      "source": [
        "# Chart - 11 visualization code\n",
        "# To compare adr (average daily rate) for different months\n",
        "month_wise_adr = c_hba_df.groupby('arrival_date_month')['adr'].mean().reset_index()\n",
        "month_wise_adr = round(month_wise_adr.sort_values(by = 'adr', ascending = False), 2)\n",
        "print(month_wise_adr)\n",
        "\n",
        "plt.figure(figsize = (13, 7))\n",
        "plt.title('ADR V/S Booking month (Monthwise adr)')\n",
        "sns.barplot(x = 'arrival_date_month', y = 'adr', data = month_wise_adr)\n",
        "plt.xlabel('Months')\n",
        "plt.ylabel('ADR')\n",
        "for i, value in enumerate(month_wise_adr['adr']):\n",
        "    plt.text(i, value, str(value), ha='center', va='bottom')\n",
        "plt.show()"
      ],
      "metadata": {
        "id": "mAQTIvtqp1cj"
      },
      "execution_count": null,
      "outputs": []
    },
    {
      "cell_type": "markdown",
      "source": [
        "##### 1. Why did you pick the specific chart?"
      ],
      "metadata": {
        "id": "X_VqEhTip1ck"
      }
    },
    {
      "cell_type": "markdown",
      "source": [
        "As the data represented by bar graphs is very easy to understand and also it is easy to compare multiple data using bar graph, thus we have selected bar graph to display month wise ADR (Average Daily Rate)."
      ],
      "metadata": {
        "id": "-vsMzt_np1ck"
      }
    },
    {
      "cell_type": "markdown",
      "source": [
        "##### 2. What is/are the insight(s) found from the chart?"
      ],
      "metadata": {
        "id": "8zGJKyg5p1ck"
      }
    },
    {
      "cell_type": "markdown",
      "source": [
        "From the above visualization it is clear that adr is highest for the month of August followed by July, June, September and so on."
      ],
      "metadata": {
        "id": "ZYdMsrqVp1ck"
      }
    },
    {
      "cell_type": "markdown",
      "source": [
        "##### 3. Will the gained insights help creating a positive business impact?\n",
        "Are there any insights that lead to negative growth? Justify with specific reason."
      ],
      "metadata": {
        "id": "PVzmfK_Ep1ck"
      }
    },
    {
      "cell_type": "markdown",
      "source": [
        "Considering the adr's shown for all months in the above graph hotel management should design and implement strategies to increase adr for all months."
      ],
      "metadata": {
        "id": "druuKYZpp1ck"
      }
    },
    {
      "cell_type": "markdown",
      "source": [
        "#### Chart - 12: Number of bookings w.r.t. months"
      ],
      "metadata": {
        "id": "Ag9LCva-p1cl"
      }
    },
    {
      "cell_type": "code",
      "source": [
        "# Chart - 12 visualization code\n",
        "# Compare number of bookings for different months\n",
        "plt.figure(figsize = (13, 5))\n",
        "months_df = c_hba_df[['hotel', 'arrival_date_month']]\n",
        "monthly_bookings = months_df['arrival_date_month'].value_counts().reset_index()\n",
        "print(monthly_bookings)\n",
        "plt.title('Number of bookings for different months')\n",
        "sns.barplot(x = monthly_bookings['index'], y = monthly_bookings['arrival_date_month'])\n",
        "plt.xlabel('Months')\n",
        "plt.ylabel('Number of bookings')\n",
        "for i, value in enumerate(monthly_bookings['arrival_date_month']):\n",
        "    plt.text(i, value, str(value), ha='center', va='bottom')\n",
        "plt.show()"
      ],
      "metadata": {
        "id": "EUfxeq9-p1cl"
      },
      "execution_count": null,
      "outputs": []
    },
    {
      "cell_type": "markdown",
      "source": [
        "##### 1. Why did you pick the specific chart?"
      ],
      "metadata": {
        "id": "E6MkPsBcp1cl"
      }
    },
    {
      "cell_type": "markdown",
      "source": [
        "As the data represented by bar graphs is very easy to understand and also it is easy to compare multiple data using bar graph, thus we have selected bar graph to display number of bookings for each month."
      ],
      "metadata": {
        "id": "V22bRsFWp1cl"
      }
    },
    {
      "cell_type": "markdown",
      "source": [
        "##### 2. What is/are the insight(s) found from the chart?"
      ],
      "metadata": {
        "id": "2cELzS2fp1cl"
      }
    },
    {
      "cell_type": "markdown",
      "source": [
        "From the above visualization we can say that August month contributes highest number of bookings followed by July, May, April, and so on."
      ],
      "metadata": {
        "id": "ozQPc2_Ip1cl"
      }
    },
    {
      "cell_type": "markdown",
      "source": [
        "##### 3. Will the gained insights help creating a positive business impact?\n",
        "Are there any insights that lead to negative growth? Justify with specific reason."
      ],
      "metadata": {
        "id": "3MPXvC8up1cl"
      }
    },
    {
      "cell_type": "markdown",
      "source": [
        "In the month of August and July number of bookings are high as compared to rest of the year. This insight will help to focus more on this period as this might be holiday period, so that hotels should get more bookings in this duration."
      ],
      "metadata": {
        "id": "GL8l1tdLp1cl"
      }
    },
    {
      "cell_type": "markdown",
      "source": [
        "#### Chart - 13: Correlation Heatmap"
      ],
      "metadata": {
        "id": "NC_X3p0fY2L0"
      }
    },
    {
      "cell_type": "code",
      "source": [
        "# Correlation Heatmap visualization code\n",
        "plt.figure(figsize = (18, 7))\n",
        "plt.title(\"Correlation heatmap showing relation between different variables\")\n",
        "sns.heatmap(c_hba_df.corr(), cmap = 'coolwarm', annot = True)\n",
        "plt.show()"
      ],
      "metadata": {
        "id": "xyC9zolEZNRQ"
      },
      "execution_count": null,
      "outputs": []
    },
    {
      "cell_type": "markdown",
      "source": [
        "##### 1. Why did you pick the specific chart?"
      ],
      "metadata": {
        "id": "UV0SzAkaZNRQ"
      }
    },
    {
      "cell_type": "markdown",
      "source": [
        "Correlation heatmap is very useful when one wants to plot correlation and also find out correlation coefficient between multiple variables in single plot."
      ],
      "metadata": {
        "id": "DVPuT8LYZNRQ"
      }
    },
    {
      "cell_type": "markdown",
      "source": [
        "##### 2. What is/are the insight(s) found from the chart?"
      ],
      "metadata": {
        "id": "YPEH6qLeZNRQ"
      }
    },
    {
      "cell_type": "markdown",
      "source": [
        "* From the visualization it is observed that there is a weak correlation between lead_time and adr."
      ],
      "metadata": {
        "id": "bfSqtnDqZNRR"
      }
    },
    {
      "cell_type": "markdown",
      "source": [
        "#### Chart - 14: Pair Plot"
      ],
      "metadata": {
        "id": "q29F0dvdveiT"
      }
    },
    {
      "cell_type": "code",
      "source": [
        "# Pair Plot visualization code\n",
        "df_pair_plot = c_hba_df[['lead_time', 'arrival_date_year', 'arrival_date_week_number', 'arrival_date_day_of_month',\n",
        "                         'total_stays_night', 'total_guests', 'days_in_waiting_list', 'adr']]\n",
        "plt.figure(figsize=(10,8))\n",
        "pair_plot = sns.pairplot(df_pair_plot)\n",
        "plt.show()"
      ],
      "metadata": {
        "id": "o58-TEIhveiU"
      },
      "execution_count": null,
      "outputs": []
    },
    {
      "cell_type": "markdown",
      "source": [
        "##### 1. Why did you pick the specific chart?"
      ],
      "metadata": {
        "id": "EXh0U9oCveiU"
      }
    },
    {
      "cell_type": "markdown",
      "source": [
        "Pair plot is useful in Ploting pairwise relationships for numeric variables in a dataset. The pairplot function creates a grid of Axes such that each variable in data will by shared in the y-axis across a single row and in the x-axis across a single column"
      ],
      "metadata": {
        "id": "eMmPjTByveiU"
      }
    },
    {
      "cell_type": "markdown",
      "source": [
        "##### 2. What is/are the insight(s) found from the chart?"
      ],
      "metadata": {
        "id": "22aHeOlLveiV"
      }
    },
    {
      "cell_type": "markdown",
      "source": [
        "1). From the above pair plot between lead_time and adr we can say that there is a negative relation between these two quantities, as lead_time(x-axis) increases we can observe a decrease in adr(y-axis).\n",
        "\n",
        "2). From the pair plot between total_guests and adr we can say that with an increase in number of guests a fall in adr is visible, and adr is usually high when number of guest is low.\n",
        "\n",
        "3). When we observe plot between days_in_waiting_list v/s adr, it is observed that days in waiting list increases, adr decreases.\n",
        "\n",
        "4). Higher Days in waiting are observed for customers having their bookings for the year 2016.\n",
        "\n",
        "5). Total_guests are higher in the year 2015"
      ],
      "metadata": {
        "id": "uPQ8RGwHveiV"
      }
    },
    {
      "cell_type": "markdown",
      "source": [
        "## **5. Solution to Business Objective**"
      ],
      "metadata": {
        "id": "JcMwzZxoAimU"
      }
    },
    {
      "cell_type": "markdown",
      "source": [
        "#### What do you suggest the client to achieve Business Objective ?\n",
        "Explain Briefly."
      ],
      "metadata": {
        "id": "8G2x9gOozGDZ"
      }
    },
    {
      "cell_type": "markdown",
      "source": [
        "> 1). As 15 % of customers were not alloted reserved room, hotel management should focus and solve this issue so that all customers should be alloted the room which he/she reserved.\n",
        "\n",
        "> 2). Hotel should have a proper cancelation policy as almost 25 % customers have canceled booking, to tackle this issue hotel could also offer discounts for the customers on confirming their bookings by paying a small token  amount for bookings.\n",
        "\n",
        "> 3). In the month of August and July number of bookings are high as compared to rest of the year. This insight will help to focus more on this period as this might be holiday period, so that hotels should get more bookings in this duration.\n",
        "\n",
        "> 4). Hotel management should focus design and implement strategies to increase adr for months in which adr is low, like focusing on getting bookings from corporates and aviation sector as they are usually high paying segments.\n",
        "\n",
        "> 5). Country specific ad campaigns and special offers should be launched so as to attract customers from a specific sountries.\n",
        "\n",
        "> 6). Time to time inspection and reporting should be done so as to cross check the impact of policies implemented for improvement of business and profitability.\n",
        "\n",
        "> 7). Also usually city hotels are preffered over resort hotels so necessary steps like transportation, pickup and drop facilities as resort hotels are usually far from city, should be taken to increase bookings in resort hotel.\n",
        "\n",
        "> 8). As most of the bookings come from Online TA segment of the market, hotel should try to focus on getting more bookings from Corporate and Aviation segments as they are usually high paying market segments so that the ADR could be increased. because if hotel is getting most of the bookings from only one market segment it will make their business vulnerable and dependent only on one segment of the customers."
      ],
      "metadata": {
        "id": "pASKb0qOza21"
      }
    },
    {
      "cell_type": "markdown",
      "source": [
        "# **Conclusion**"
      ],
      "metadata": {
        "id": "gCX9965dhzqZ"
      }
    },
    {
      "cell_type": "markdown",
      "source": [
        "1). There is a negative relation between lead_time and adr, as lead_time increases we can observe a decrease in adr.\n",
        "\n",
        "2). Increase in number of guests results in a fall in adr, and adr is usually high when number of guest is low.\n",
        "\n",
        "3). Tt is observed that as days in waiting list increases, adr decreases.\n",
        "\n",
        "4). Higher Days in waiting are observed for customers having their bookings for the year 2016.\n",
        "\n",
        "5). Total_guests are higher in the year 2015 as compared to year 2016 and 2017.\n",
        "\n",
        "6). August month contributes highest number of bookings followed by July, May, April, and so on.\n",
        "\n",
        "7). ADR is highest for the month of August followed by July, June, September and so on.\n",
        "\n",
        "8). Maximun guests come from Portugal(PRT) followed by Great Britain, France and so on.\n",
        "\n",
        "9). Very less bookings are canceled considering the fact that reserved room is not assigned. so there is no direct correlation between booking being canceled and reserved room not assigned to the customer.\n",
        "\n",
        "10). Agent with ID 9 tops the list w.r.t number of bookings.\n",
        "\n",
        "11). In approximately 85 % of the cases reserved room is assigned to the customer.\n",
        "\n",
        "12). Maximum bookings came from TA/TO distribution channel.\n",
        "\n",
        "13). 2016 is the year that holds around 49 % bookings out of the total bookings.\n",
        "\n",
        "14). 72 % bookings are not canceled.\n",
        "\n",
        "15). City hotel booked more preferred over resort hotels."
      ],
      "metadata": {
        "id": "Fjb1IsQkh3yE"
      }
    },
    {
      "cell_type": "markdown",
      "source": [
        "### ***Hurrah! You have successfully completed your EDA Capstone Project !!!***"
      ],
      "metadata": {
        "id": "gIfDvo9L0UH2"
      }
    }
  ]
}